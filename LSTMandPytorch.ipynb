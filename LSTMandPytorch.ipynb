{
  "nbformat": 4,
  "nbformat_minor": 0,
  "metadata": {
    "colab": {
      "provenance": []
    },
    "kernelspec": {
      "name": "python3",
      "display_name": "Python 3"
    },
    "language_info": {
      "name": "python"
    }
  },
  "cells": [
    {
      "cell_type": "markdown",
      "source": [
        "### **Implementing LSTM using inbuilt nn.LSTM** -"
      ],
      "metadata": {
        "id": "Nt2Rok0ICfU3"
      }
    },
    {
      "cell_type": "code",
      "source": [
        "import torch\n",
        "import torch.nn as nn\n",
        "\n",
        "\n",
        "class LSTMModel(nn.Module):\n",
        "    def __init__(self, input_window_size , hidden_size, num_layers, batch_first = True):\n",
        "        super(LSTMModel, self).__init__()\n",
        "        self.hidden_size = hidden_size\n",
        "        self.num_layers = num_layers\n",
        "\n",
        "\n",
        "        #defining an LSTM layer\n",
        "        self.lstm = nn.LSTM(input_size = input_window_size,\n",
        "                            hidden_size= hidden_size ,\n",
        "                            num_layers=num_layers,\n",
        "                            batch_first = batch_first)\n",
        "\n",
        "        #define the output layer\n",
        "        self.fc = nn.Linear(hidden_size , 1)\n",
        "\n",
        "    def forward(self ,x):\n",
        "        #initializing hidden_state  with zeros\n",
        "        h0 = torch.zeros(self.num_layers , x.size(0) , self.hidden_size).to(x.device)\n",
        "\n",
        "        #initializing cell state with zeros\n",
        "        c0 = torch.zeros(self.num_layers , x.size(0) , self.hidden_size).to(x.device)\n",
        "\n",
        "\n",
        "        #forward LSTM\n",
        "        out,_ = self.lstm(x , (h0 , c0))\n",
        "\n",
        "        #decoding the hidden_state of last time step\n",
        "        out = self.fc(out[:,-1, :])\n",
        "\n",
        "        return out\n",
        "\n"
      ],
      "metadata": {
        "id": "tqbtZOoeCqqL"
      },
      "execution_count": 1,
      "outputs": []
    },
    {
      "cell_type": "code",
      "source": [
        "#Printing lstm model with nn.module\n",
        "\n",
        "#for example lets take\n",
        "input_window_size = 10\n",
        "hidden_size = 60\n",
        "num_layers = 4\n",
        "\n",
        "model = LSTMModel(input_window_size , hidden_size , num_layers)\n",
        "print(model)"
      ],
      "metadata": {
        "colab": {
          "base_uri": "https://localhost:8080/"
        },
        "id": "UpKgkNqfZyAQ",
        "outputId": "2f5ce840-1da6-4eae-e09c-5150c93885e8"
      },
      "execution_count": 2,
      "outputs": [
        {
          "output_type": "stream",
          "name": "stdout",
          "text": [
            "LSTMModel(\n",
            "  (lstm): LSTM(10, 60, num_layers=4, batch_first=True)\n",
            "  (fc): Linear(in_features=60, out_features=1, bias=True)\n",
            ")\n"
          ]
        }
      ]
    },
    {
      "cell_type": "markdown",
      "source": [
        "# Building LSTM from sratch -:\n",
        "1) Tensors :A tensor is multi-dimensional array , and in pytorch , tensors are used to  represent data or model weight.\n",
        "2)Variable and parameter: Variable used in older version  to wrap tensors and track gradients. In newer versions  , variable is depricated, and tensors with requires_grad = True  are used instead.\n",
        "Paramter is specifically designed to be part of the model.When you assign  a tensor as nn.Parameter  with a module (like we have used here), pytorch automatically registers as the  model parameters.It means it will be included in the model's parameter() iterator.\n",
        "\n",
        "\n",
        "\n",
        "\n"
      ],
      "metadata": {
        "id": "bpZZgw7aSb_s"
      }
    },
    {
      "cell_type": "markdown",
      "source": [
        "# **Forward Function :**\n",
        "This functions defines how the LSTM Cell  processes the input at each time stamp and updates its hidden state and cell accordingly.![lstm.png](data:image/png;base64,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)"
      ],
      "metadata": {
        "id": "EByqI3zHKq2t"
      }
    },
    {
      "cell_type": "markdown",
      "source": [
        "# **Input Components**\n",
        "h_prev, c_prev = hidden\n",
        "Previous hidden state and cell state\n",
        "\n",
        "# **Inputs:**\n",
        "x_t (current input)\n",
        "h_(t-1) (previous hidden state)\n",
        "c_(t-1) (previous cell state)\n",
        "\n",
        "\n",
        "# **Gates Computation**\n",
        "Input Gate\n",
        "i_t = σ(x @ W_ii.T + h_prev @ W_hi.T + b_i)\n",
        "Forget Gate\n",
        "f_t = σ(x @ W_if.T + h_prev @ W_hf.T + b_f)\n",
        "Cell Gate\n",
        "g_t = tanh(x @ W_ig.T + h_prev @ W_hg.T + b_g)\n",
        "Output Gate\n",
        "o_t = σ(x @ W_io.T + h_prev @ W_ho.T + b_o)\n",
        "\n",
        "# **State Updates**\n",
        "c_t = f_t * c_prev + i_t * g_t\n",
        "New cell state: forget old info + add new info\n",
        "h_t = o_t * torch.tanh(c_t)\n",
        "New hidden state: output gate controls what to expose"
      ],
      "metadata": {
        "id": "nd58RwMqYtds"
      }
    },
    {
      "cell_type": "code",
      "source": [
        "!#We are taking similiar two layers, hidden_size = 50 and input_window_size = 10\n",
        "\n",
        "\n",
        "import torch\n",
        "import torch.nn as nn\n",
        "\n",
        "class LSTMCell(nn.Module):\n",
        "  def __init__(self , input_size , hidden_size):\n",
        "\n",
        "      super(LSTMCell , self).__init__()\n",
        "      self.hidden_size = hidden_size\n",
        "      self.input_size = input_size\n",
        "\n",
        "      #Making input gate components\n",
        "      self.Wii = nn.Parameter(torch.Tensor(hidden_size , input_size))\n",
        "      self.Whi = nn.Parameter(torch.Tensor(hidden_size , hidden_size))\n",
        "      self.bi = nn.Parameter(torch.Tensor(hidden_size))\n",
        "\n",
        "\n",
        "\n",
        "      #Forget gate components\n",
        "      self.Wif = nn.Parameter(torch.Tensor(hidden_size , input_size))\n",
        "      self.Whf = nn.Parameter(torch.Tensor(hidden_size , hidden_size))\n",
        "      self.bf = nn.Parameter(torch.Tensor(hidden_size))\n",
        "\n",
        "\n",
        "      #cell gate components\n",
        "      self.Wig = nn.Parameter(torch.Tensor(hidden_size , input_size))\n",
        "      self.Whg = nn.Parameter(torch.Tensor(hidden_size , hidden_size))\n",
        "      self.bg = nn.Parameter(torch.Tensor(hidden_size))\n",
        "\n",
        "\n",
        "      #output gate Components\n",
        "      self.Wio = nn.Parameter(torch.Tensor(hidden_size , input_size))\n",
        "      self.Who = nn.Parameter(torch.Tensor(hidden_size , hidden_size))\n",
        "      self.bo = nn.Parameter(torch.Tensor(hidden_size))\n",
        "\n",
        "      self.init_weights()\n",
        "\n",
        "\n",
        "  def init_weights(self):  #this function initializes the weight / basis of the parameters.\n",
        "    for param in self.parameters():\n",
        "      nn.init.uniform_(param,-0.1, 0.1)\n",
        "\n",
        "\n",
        "  def forward(self , x, hidden):\n",
        "    h_prev , c_prev = hidden\n",
        "\n",
        "    it = torch.sigmoid(x @ self.Wii.T + h_prev @ self.Whi.T + self.bi)\n",
        "    ft = torch.sigmoid(x @ self.Wif.T + h_prev @ self.Whf.T + self.bf)\n",
        "    gt = torch.tanh(x @ self.Wig.T + h_prev @ self.Whi.T + self.bg)\n",
        "    ot = torch.sigmoid(x @ self.Wio.T + h_prev @ self.Who.T +self.bo)\n",
        "    ct = ft* c_prev + it *gt\n",
        "    ht = ot * torch.tanh(ct)\n",
        "\n",
        "    return ht , (ht, ct)"
      ],
      "metadata": {
        "id": "hwWxY6jvSbd5"
      },
      "execution_count": 32,
      "outputs": []
    },
    {
      "cell_type": "markdown",
      "source": [
        "LSTM:\n"
      ],
      "metadata": {
        "id": "dxOdbZ9DaD8A"
      }
    },
    {
      "cell_type": "code",
      "source": [
        "class LSTM(nn.Module):\n",
        "  def __init__(self ,input_size , hidden_size , num_layers):\n",
        "    super(LSTM , self).__init__()\n",
        "    self.hidden_size = hidden_size\n",
        "    self.num_layers = num_layers\n",
        "    self.lstm_cells = nn.ModuleList([LSTMCell(input_size , hidden_size) if i ==0\n",
        "                                     else LSTMCell(hidden_size , hidden_size)\n",
        "                                     for i in range(num_layers)])\n",
        "\n",
        "    self.fc = nn.Linear(hidden_size, 1)\n",
        "\n",
        "\n",
        "  def forward(self , x):\n",
        "    batch_size  , seq_len, _ = x.size()\n",
        "    h = [torch.zeros(batch_size,  self.hidden_size).to(x.device) for _ in range(self.num_layers)]\n",
        "    c = [torch.zeros(batch_size , self.hidden_size).to(x.device) for _ in range(self.num_layers)]\n",
        "\n",
        "    for t in range(seq_len):\n",
        "      xt = x[:, t , :]\n",
        "      for i ,cell in enumerate(self.lstm_cells): #Pass Through LSTM Cells\n",
        "          h[i], (h[i],c[i]) = cell(xt, (h[i] , c[i]))\n",
        "          xt = h[i]\n",
        "\n",
        "      out = self.fc(h[-1]) #A fully connected (linear) layer that maps the last hidden state (h[-1]) from the final LSTM layer to a single output.\n",
        "      return out\n",
        "\n"
      ],
      "metadata": {
        "id": "7I-INKA_ioWg"
      },
      "execution_count": 33,
      "outputs": []
    },
    {
      "cell_type": "code",
      "source": [
        "device = torch.device(\"cuda\" if torch.cuda.is_available() else \"cpu\")"
      ],
      "metadata": {
        "id": "9m4N6nfQvxvc"
      },
      "execution_count": 27,
      "outputs": []
    },
    {
      "cell_type": "code",
      "source": [
        "input_size = 10\n",
        "hidden_size = 50\n",
        "num_layers = 2\n",
        "\n",
        "model = LSTM(input_size , hidden_size , num_layers)\n",
        "print(model)\n",
        "\n",
        "sample_input = torch.rand(1,5 , input_size)\n",
        "sample_input = sample_input.to(device)\n",
        "output = model(sample_input)"
      ],
      "metadata": {
        "colab": {
          "base_uri": "https://localhost:8080/"
        },
        "id": "ORzPawqaum3q",
        "outputId": "d61dbe9f-9444-4655-fe04-609446aa1501"
      },
      "execution_count": 34,
      "outputs": [
        {
          "output_type": "stream",
          "name": "stdout",
          "text": [
            "LSTM(\n",
            "  (lstm_cells): ModuleList(\n",
            "    (0-1): 2 x LSTMCell()\n",
            "  )\n",
            "  (fc): Linear(in_features=50, out_features=1, bias=True)\n",
            ")\n"
          ]
        }
      ]
    }
  ]
}